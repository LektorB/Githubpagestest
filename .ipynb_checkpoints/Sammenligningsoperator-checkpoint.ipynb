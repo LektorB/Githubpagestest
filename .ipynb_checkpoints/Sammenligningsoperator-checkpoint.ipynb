{
 "cells": [
  {
   "cell_type": "markdown",
   "metadata": {},
   "source": [
    "# Sammenlikningsoperatorer og logiske operatorer"
   ]
  },
  {
   "cell_type": "markdown",
   "metadata": {},
   "source": [
    "## Sammenlikningsoperatorer\n",
    "\n",
    "Når vi programmerer, har vi ofte behov for å sammenlikne verdier eller variabler. Da kan vi bruke **sammenlikningsoperatorer**. En sammenlikning returnerer alltid en boolsk verdi, altså enten `True` eller `False`.\n",
    "\n",
    "Slike operatorer er helt sentrale i kontrollstrukturer som `if`-setninger og `while`-løkker."
   ]
  },
  {
   "cell_type": "markdown",
   "metadata": {},
   "source": [
    "### Oversikt over sammenlikningsoperatorer\n",
    "\n",
    "Her er de vanligste sammenlikningsoperatorene i Python:\n",
    "\n",
    "| Forklaring | Tegn | Eksempel | Resultat (boolsk verdi) |\n",
    "|:---|:---:|:---|:---|\n",
    "| Lik | `==` | `5 == 6` | `False` |\n",
    "| Ikke lik | `!=` | `5 != 6` | `True` |\n",
    "| Mindre enn | `<` | `5 < 8` | `True` |\n",
    "| Mindre enn eller lik | `<=` | `6 <= 6` | `True` |\n",
    "| Større enn | `>` | `10 > 4` | `True` |\n",
    "| Større enn eller lik | `>=` | `10 >= 11` | `False` |"
   ]
  },
  {
   "cell_type": "markdown",
   "metadata": {},
   "source": [
    "### La oss teste eksemplene i kode"
   ]
  },
  {
   "cell_type": "code",
   "execution_count": null,
   "metadata": {},
   "outputs": [],
   "source": [
    "# Lik (==)\n",
    "print(f\"Er 5 lik 6? {5 == 6}\")"
   ]
  },
  {
   "cell_type": "code",
   "execution_count": null,
   "metadata": {},
   "outputs": [],
   "source": [
    "# Ikke lik (!=)\n",
    "print(f\"Er 5 ikke lik 6? {5 != 6}\")"
   ]
  },
  {
   "cell_type": "code",
   "execution_count": null,
   "metadata": {},
   "outputs": [],
   "source": [
    "# Mindre enn (<)\n",
    "print(f\"Er 5 mindre enn 8? {5 < 8}\")"
   ]
  },
  {
   "cell_type": "code",
   "execution_count": null,
   "metadata": {},
   "outputs": [],
   "source": [
    "# Mindre enn eller lik (<=)\n",
    "print(f\"Er 6 mindre enn eller lik 6? {6 <= 6}\")"
   ]
  },
  {
   "cell_type": "code",
   "execution_count": null,
   "metadata": {},
   "outputs": [],
   "source": [
    "# Større enn (>)\n",
    "print(f\"Er 10 større enn 4? {10 > 4}\")"
   ]
  },
  {
   "cell_type": "code",
   "execution_count": null,
   "metadata": {},
   "outputs": [],
   "source": [
    "# Større enn eller lik (>=)\n",
    "print(f\"Er 10 større enn eller lik 11? {10 >= 11}\")"
   ]
  },
  {
   "cell_type": "markdown",
   "metadata": {},
   "source": [
    "### **NB! Viktig forskjell på `==` og `=`**\n",
    "\n",
    "For å sjekke om to verdier er like, bruker vi **to** likhetstegn (`==`).\n",
    "\n",
    "Ett enkelt likhetstegn (`=`) brukes kun for å tildele en verdi til en variabel.\n",
    "\n",
    "* `==` er **sammenliknings**operatoren.\n",
    "* `=` er **tilordnings**operatoren."
   ]
  },
  {
   "cell_type": "code",
   "execution_count": null,
   "metadata": {},
   "outputs": [],
   "source": [
    "# Tilordning: Vi gir variabelen 'alder' verdien 25\n",
    "alder = 25\n",
    "\n",
    "# Sammenlikning: Vi sjekker om verdien til 'alder' er lik 25\n",
    "print(f\"Er alderen lik 25? {alder == 25}\")\n",
    "\n",
    "# Sammenlikning: Vi sjekker om verdien til 'alder' er lik 30\n",
    "print(f\"Er alderen lik 30? {alder == 30}\")"
   ]
  },
  {
   "cell_type": "markdown",
   "metadata": {},
   "source": [
    "---"
   ]
  },
  {
   "cell_type": "markdown",
   "metadata": {},
   "source": [
    "## Logiske Operatorer\n",
    "\n",
    "Vi kan også sette sammen flere sammenlikninger i ett uttrykk. For å gjøre dette bruker vi de logiske operatorene `and`, `or` og `not`."
   ]
  },
  {
   "cell_type": "markdown",
   "metadata": {},
   "source": [
    "### Operatoren `and`\n",
    "\n",
    "Vi bruker `and` når vi vil sjekke om **alle** betingelsene er sanne (`True`) samtidig.\n",
    "\n",
    "* `True and True`   -> `True`\n",
    "* `True and False`  -> `False`\n",
    "* `False and True`  -> `False`\n",
    "* `False and False` -> `False`"
   ]
  },
  {
   "cell_type": "code",
   "execution_count": null,
   "metadata": {},
   "outputs": [],
   "source": [
    "# Eksempel med 'and'\n",
    "alder = 20\n",
    "har_bestått_teori = True\n",
    "\n",
    "# For å kunne ta oppkjøring må du være over 18 OG ha bestått teorien.\n",
    "kan_ta_oppkjøring = (alder >= 18) and (har_bestått_teori == True)\n",
    "\n",
    "print(f\"Kan personen ta oppkjøring? {kan_ta_oppkjøring}\")"
   ]
  },
  {
   "cell_type": "markdown",
   "metadata": {},
   "source": [
    "### Operatoren `or`\n",
    "\n",
    "Vi bruker `or` når vi vil sjekke om **minst én** av betingelsene er sann (`True`).\n",
    "\n",
    "* `True or True`   -> `True`\n",
    "* `True or False`  -> `True`\n",
    "* `False or True`  -> `True`\n",
    "* `False or False` -> `False`"
   ]
  },
  {
   "cell_type": "code",
   "execution_count": null,
   "metadata": {},
   "outputs": [],
   "source": [
    "# Eksempel med 'or'\n",
    "har_gyldig_billett = False\n",
    "har_invitasjon = True\n",
    "\n",
    "# For å komme inn på arrangementet, trenger du enten gyldig billett ELLER en invitasjon.\n",
    "faar_komme_inn = har_gyldig_billett or har_invitasjon\n",
    "\n",
    "print(f\"Får personen komme inn? {faar_komme_inn}\")"
   ]
  },
  {
   "cell_type": "markdown",
   "metadata": {},
   "source": [
    "### Operatoren `not`\n",
    "\n",
    "Vi bruker `not` for å invertere en boolsk verdi. Den snur `True` til `False` og `False` til `True`.\n",
    "\n",
    "* `not True` -> `False`\n",
    "* `not False` -> `True`"
   ]
  },
  {
   "cell_type": "code",
   "execution_count": null,
   "metadata": {},
   "outputs": [],
   "source": [
    "# Eksempel med 'not'\n",
    "er_doren_apen = False\n",
    "\n",
    "# Vi sjekker om døren IKKE er åpen\n",
    "er_doren_lukket = not er_doren_apen\n",
    "\n",
    "print(f\"Er døren lukket? {er_doren_lukket}\")"
   ]
  }
 ],
 "metadata": {
  "kernelspec": {
   "display_name": "Python 3 (ipykernel)",
   "language": "python",
   "name": "python3"
  },
  "language_info": {
   "codemirror_mode": {
    "name": "ipython",
    "version": 3
   },
   "file_extension": ".py",
   "mimetype": "text/x-python",
   "name": "python",
   "nbconvert_exporter": "python",
   "pygments_lexer": "ipython3",
   "version": "3.11.11"
  }
 },
 "nbformat": 4,
 "nbformat_minor": 4
}
